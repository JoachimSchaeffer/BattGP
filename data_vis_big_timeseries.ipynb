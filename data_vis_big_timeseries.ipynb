{
 "cells": [
  {
   "cell_type": "markdown",
   "metadata": {},
   "source": [
    "# Data visualization of the battery time-series data using Datashader. \n",
    "### This notebook allows the visualization of millions of data points.\n",
    "\n",
    "### Remark: Holowview und Geckodriver might require additional setup steps."
   ]
  },
  {
   "cell_type": "code",
   "execution_count": null,
   "metadata": {},
   "outputs": [],
   "source": [
    "import gc\n",
    "import os\n",
    "import warnings\n",
    "\n",
    "import matplotlib.pyplot as plt\n",
    "\n",
    "from src.batt_data import batt_data, data_utils, plotting\n",
    "from src.path_setup import setup_paths\n",
    "\n",
    "%load_ext autoreload\n",
    "%autoreload 2\n",
    "\n",
    "# Use seaborn style defaults and set the default figure size\n",
    "plt.style.use(\"seaborn-v0_8-white\")\n",
    "\n",
    "setup_paths()\n",
    "data_utils.build_data_cache()"
   ]
  },
  {
   "cell_type": "code",
   "execution_count": 2,
   "metadata": {},
   "outputs": [],
   "source": [
    "generate_static_plots_for_all_batteries = True\n",
    "cell_characteristics = data_utils.read_cell_characteristics()\n",
    "\n",
    "def plot_all_batteries(id_list):\n",
    "    warnings.simplefilter(action=\"ignore\", category=FutureWarning)\n",
    "    for batt_id_int in id_list:\n",
    "        batt_id = str(batt_id_int)\n",
    "        print(f\"Generating plots for battery {batt_id}\")\n",
    "        battdata = batt_data.BattData(\n",
    "            batt_id,\n",
    "            cell_characteristics,\n",
    "            segment_selection=False,\n",
    "            gap_removal=False,\n",
    "        )\n",
    "\n",
    "        plotting.diagnostic_plot_datashader(battdata, save=True, dynamic=False, scale=0.3)\n",
    "        # Delete battdata to free up memory\n",
    "        del battdata\n",
    "        gc.collect()"
   ]
  },
  {
   "cell_type": "code",
   "execution_count": null,
   "metadata": {},
   "outputs": [],
   "source": [
    "id_list = [i for i in range(1, 10)]\n",
    "if generate_static_plots_for_all_batteries:\n",
    "    plot_all_batteries(id_list)"
   ]
  },
  {
   "cell_type": "code",
   "execution_count": null,
   "metadata": {},
   "outputs": [],
   "source": [
    "id_list = [i for i in range(10, 20)]\n",
    "if generate_static_plots_for_all_batteries:\n",
    "    plot_all_batteries(id_list)"
   ]
  },
  {
   "cell_type": "code",
   "execution_count": null,
   "metadata": {},
   "outputs": [],
   "source": [
    "id_list = [i for i in range(20, 29)]\n",
    "if generate_static_plots_for_all_batteries:\n",
    "    plot_all_batteries(id_list)"
   ]
  },
  {
   "cell_type": "markdown",
   "metadata": {},
   "source": [
    "## Remark: Some of the data files have duplicated indices.\n",
    "\n",
    "It is not entirely clear why this happens.\\\n",
    "The measurements themselves are different, suggesting that the BMS time stamp resolution might not be high enough."
   ]
  },
  {
   "cell_type": "code",
   "execution_count": null,
   "metadata": {},
   "outputs": [],
   "source": [
    "nb_of_data_point = 0 \n",
    "for i in range(1, 29):\n",
    "    batt_id = str(i)\n",
    "    print(f\"Loading data for battery {batt_id}\")\n",
    "    battdata = batt_data.BattData(\n",
    "        batt_id,\n",
    "        cell_characteristics,\n",
    "        segment_selection=False,\n",
    "        gap_removal=False,\n",
    "    )\n",
    "    nb_of_data_point += len(battdata.df)\n",
    "    # check whether there are duplicated indices\n",
    "    duplicated_indices = battdata.df.index[battdata.df.index.duplicated(keep=False)]\n",
    "    print(f\"Number of duplicated indices: {len(duplicated_indices)}\")\n",
    "    del battdata\n",
    "    gc.collect()\n",
    "print(f\"Total number of data points: {nb_of_data_point}\")"
   ]
  }
 ],
 "metadata": {
  "kernelspec": {
   "display_name": "battgp",
   "language": "python",
   "name": "python3"
  },
  "language_info": {
   "codemirror_mode": {
    "name": "ipython",
    "version": 3
   },
   "file_extension": ".py",
   "mimetype": "text/x-python",
   "name": "python",
   "nbconvert_exporter": "python",
   "pygments_lexer": "ipython3",
   "version": "3.10.12"
  }
 },
 "nbformat": 4,
 "nbformat_minor": 4
}
